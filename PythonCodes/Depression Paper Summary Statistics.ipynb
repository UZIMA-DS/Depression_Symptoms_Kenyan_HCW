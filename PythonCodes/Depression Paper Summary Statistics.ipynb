{
 "cells": [
  {
   "cell_type": "code",
   "execution_count": 1,
   "id": "75968c6a",
   "metadata": {},
   "outputs": [],
   "source": [
    "from datetime import datetime\n",
    "from docx import Document\n",
    "import pandas as pd\n",
    "import numpy as np\n",
    "import pyodbc"
   ]
  },
  {
   "cell_type": "code",
   "execution_count": 2,
   "id": "683264d2",
   "metadata": {},
   "outputs": [],
   "source": [
    "#Define the connection Parameters\n",
    "# con= pyodbc.connect(\"DRIVER={ODBC DRIVER 17 for SQL Server};Server= server;DATABASE=dbName;UI=userName;PWD=pwd;\")\n",
    "server = 'uzima-dmac.database.windows.net'\n",
    "dbName ='Uzima_db'\n",
    "user='dorcas.mwigereri@ea.aku.edu'\n",
    "Authentication='ActiveDirectoryInteractive'\n",
    "driver= '{ODBC Driver 17 for SQL Server}'\n",
    "conn = pyodbc.connect('DRIVER='+driver+';SERVER='+server+';DATABASE='+dbName+';UID='+user+';AUTHENTICATION='+Authentication)"
   ]
  },
  {
   "cell_type": "code",
   "execution_count": 3,
   "id": "99f72fb2",
   "metadata": {},
   "outputs": [
    {
     "name": "stderr",
     "output_type": "stream",
     "text": [
      "C:\\Users\\dorcas.mwigereri\\AppData\\Local\\Temp\\6\\ipykernel_14112\\2180066906.py:5: UserWarning: pandas only supports SQLAlchemy connectable (engine/connection) or database string URI or sqlite3 DBAPI2 connection. Other DBAPI2 objects are not tested. Please consider using SQLAlchemy.\n",
      "  data = pd.read_sql(sql_data_query,conn)\n",
      "C:\\Users\\dorcas.mwigereri\\AppData\\Local\\Temp\\6\\ipykernel_14112\\2180066906.py:6: UserWarning: pandas only supports SQLAlchemy connectable (engine/connection) or database string URI or sqlite3 DBAPI2 connection. Other DBAPI2 objects are not tested. Please consider using SQLAlchemy.\n",
      "  enrollment_data = pd.read_sql(enrollment_data,conn)\n"
     ]
    }
   ],
   "source": [
    "#SQL Queries to load the views\n",
    "sql_data_query=\"SELECT * from [dbo].[DepressionAnalysis]\"\n",
    "enrollment_data = \"SELECT * from [DW].[DimEnrolledParticipants]\"\n",
    "#Read Data\n",
    "data = pd.read_sql(sql_data_query,conn)\n",
    "enrollment_data = pd.read_sql(enrollment_data,conn)\n",
    "pivoted_data =data.pivot(index=['participantidentifier'], columns='resultidentifier', values='answers').reset_index()\n",
    "enrollment_df=enrollment_data[['ParticipantIdentifier','EnrollmentDate']]\n",
    "#Calculate the Age for each Participant based on Participant's enrolled date and Participants DOB\n",
    "#Merge pivotted data with the enrollment data\n",
    "pivoted_data = pd.merge(pivoted_data,enrollment_df, left_on='participantidentifier', right_on='ParticipantIdentifier')\n",
    "pivoted_data['DOB'] = pd.to_datetime(pivoted_data['DOB'])    \n",
    "# Get today's date\n",
    "pivoted_data['EnrollmentDate'] = pd.to_datetime(pivoted_data['EnrollmentDate'])     \n",
    "# Calculate age \n",
    "pivoted_data['Age'] = pivoted_data.apply(lambda row: row['EnrollmentDate'].year - row['DOB'].year - \n",
    "                     ((row['EnrollmentDate'].month, row['EnrollmentDate'].day) < (row['DOB'].month, row['DOB'].day)), axis=1)\n",
    "    \n",
    "\n",
    "# #Calculate the PHQ9 Value and add it as a column to the dataframe\n",
    "phq9_columns = ['down0', 'interest0', 'asleep0', 'tired0', 'appetite0', 'failure0', 'concentr0', 'activity0', 'suic0']\n",
    "pivoted_data[phq9_columns] = pivoted_data[phq9_columns].apply(pd.to_numeric, errors='coerce')\n",
    "pivoted_data['PHQ9'] = pivoted_data[phq9_columns].sum(axis=1)\n",
    "pivoted_data.to_excel(\"C:\\\\Users\\\\dorcas.mwigereri\\\\.conda\\\\envs\\\\HCW_Study\\\\Depression Paper - Andrew\\Depression paper\\\\Data\\\\SurveyResultsPivoted.xlsx\", sheet_name='Sheet1', index=False)\n",
    "# pivoted_data.head()\n"
   ]
  },
  {
   "cell_type": "markdown",
   "id": "cb08d347",
   "metadata": {},
   "source": [
    "PHQ9 Analysis\n"
   ]
  },
  {
   "cell_type": "code",
   "execution_count": 4,
   "id": "c69fd618",
   "metadata": {},
   "outputs": [],
   "source": [
    "#Proportion of PhQ9 for the total Population\n",
    "\n",
    "count_below_10 = (pivoted_data['PHQ9'] >= 0) & (pivoted_data['PHQ9'] < 10)\n",
    "count_above_10 = (pivoted_data['PHQ9'] >= 10)\n",
    "\n",
    "# Create a new Document\n",
    "phq9_proportion_doc = Document()\n",
    "\n",
    "# Add headings\n",
    "phq9_proportion_doc.add_heading('PHq9 Counts', level=1)\n",
    "phq9_proportion_doc.add_heading('Counts between 0-9', level=2)\n",
    "phq9_proportion_doc.add_paragraph(str(count_below_10.sum()))\n",
    "\n",
    "phq9_proportion_doc.add_heading('Counts 10 and above', level=2)\n",
    "phq9_proportion_doc.add_paragraph(str(count_above_10.sum()))\n",
    "\n",
    "# Save the document\n",
    "phq9_proportion_doc.save(\"C:\\\\Users\\\\dorcas.mwigereri\\\\.conda\\\\envs\\\\HCW_Study\\\\Depression Paper - Andrew\\Depression paper\\\\PHQ9_Analysis\\\\PHQ9_proportions.docx\")"
   ]
  },
  {
   "cell_type": "code",
   "execution_count": 5,
   "id": "29ea946e",
   "metadata": {},
   "outputs": [],
   "source": [
    "def categorize_phq9(score):\n",
    "    if 0 <= score <= 9:\n",
    "        return '0-9'\n",
    "    elif score >= 10:\n",
    "        return '10 and above'\n",
    "    else:\n",
    "        return 'Invalid'  # in case of any invalid scores\n",
    "\n",
    "\n"
   ]
  },
  {
   "cell_type": "markdown",
   "id": "c3b8082e",
   "metadata": {},
   "source": [
    "PHQ9 PROPORTIONS "
   ]
  },
  {
   "cell_type": "code",
   "execution_count": 6,
   "id": "2407fe69",
   "metadata": {},
   "outputs": [],
   "source": [
    "#Apply the function to create a new column 'PHQ9_Category'\n",
    "pivoted_data['PHQ9_Category'] = pivoted_data['PHQ9'].apply(categorize_phq9)\n",
    "\n",
    "#Create Function to generate a dicument with the Counts and Percentage summaries based on the PHQ9 categories\n",
    "def calculate_phq9_proportion(data,dfName):\n",
    "       \n",
    "     #Create a new Document\n",
    "    doc = Document()\n",
    "\n",
    "    # # Add title\n",
    "    doc.add_heading('PHQ9 Analysis Summary', level=1)\n",
    "    for category_name in data:\n",
    "        summary_value =pivoted_data.groupby([category_name,'PHQ9_Category']).size().unstack(fill_value=0)\n",
    "        \n",
    "        # summary_percentage =summary_value   \n",
    "        total_counts = summary_value.values.sum()\n",
    "        percentage_summary =(summary_value/total_counts)*100     \n",
    "       \n",
    "       # Add table to document\n",
    "        def add_table(doc, title, df, df_percentage):\n",
    "            doc.add_heading(title, level=2)\n",
    "            table = doc.add_table(rows=1, cols=(len(df.columns) * 2) + 1)\n",
    "            hdr_cells = table.rows[0].cells\n",
    "            hdr_cells[0].text = category_name\n",
    "            \n",
    "            # Set headers for counts and percentages\n",
    "            for i, col in enumerate(df.columns):\n",
    "                hdr_cells[(i * 2) + 1].text = f'{col} Count'\n",
    "                hdr_cells[(i * 2) + 2].text = f'{col} %'\n",
    "            \n",
    "            # Fill rows with data\n",
    "            for idx in df.index:\n",
    "                row_cells = table.add_row().cells\n",
    "                row_cells[0].text = str(idx)\n",
    "                for i, col in enumerate(df.columns):\n",
    "                    row_cells[(i * 2) + 1].text = str(df.loc[idx, col])\n",
    "                    row_cells[(i * 2) + 2].text = f\"{df_percentage.loc[idx, col]:.2f}%\"\n",
    "\n",
    "        add_table(doc, f'Summary by {category_name}', summary_value, percentage_summary)\n",
    "    \n",
    "    #Save the document    \n",
    "    doc.save(rf'C:\\Users\\dorcas.mwigereri\\.conda\\envs\\HCW_Study\\Depression Paper - Andrew\\Depression paper\\PHQ9_Analysis\\PHQ9_{dfName}_Analysis_Summary.docx')\n",
    "\n"
   ]
  },
  {
   "cell_type": "markdown",
   "id": "3ac303a6",
   "metadata": {},
   "source": []
  },
  {
   "cell_type": "code",
   "execution_count": 7,
   "id": "e872abf2",
   "metadata": {},
   "outputs": [],
   "source": [
    "#create a lis of each section requiring the counts and percentage summaries\n",
    "\n",
    "demographics_df =['Gender','Age','Marital','Children','Cadre','Othercadre','Experience','Education']\n",
    "discrimination_df =['Discrimination']\n",
    "SLE_df=['Events','Pressuremarry','Events1','Unwantedpregnancy','Event3','Unwantedchild','Event4']\n",
    "suicidal_df=['Dead']\n",
    "medical_error_df =['Majorerror','Errortype','Othererror']\n",
    "scary_events_df=['Disaster','Accident','Robbed','Beatfamily','Beatnotfamily','Familybeat','Commbeat','Touch','Pressure','Dying','Attacked','Someoneattack','Stressfulmed','War','Otherstressful','Otherevent']\n",
    "workplace_df =['Hoursduty','Hoursworked']\n",
    "\n",
    "#Call function to create PHQ9 summaries for the counts and percentages\n",
    "calculate_phq9_proportion(demographics_df,\"Demography_Data\")\n",
    "calculate_phq9_proportion(discrimination_df,\"Discimination_Data\")\n",
    "calculate_phq9_proportion(SLE_df,\"SLE_Data\")\n",
    "calculate_phq9_proportion(suicidal_df,\"Suicidal_Data\")\n",
    "calculate_phq9_proportion(medical_error_df,\"Medical_Error_Data\")\n",
    "calculate_phq9_proportion(scary_events_df,\"Scary_Events_Data\")\n",
    "calculate_phq9_proportion(workplace_df,\"Workplace_Data\")"
   ]
  }
 ],
 "metadata": {
  "kernelspec": {
   "display_name": "Python 3",
   "language": "python",
   "name": "python3"
  },
  "language_info": {
   "codemirror_mode": {
    "name": "ipython",
    "version": 3
   },
   "file_extension": ".py",
   "mimetype": "text/x-python",
   "name": "python",
   "nbconvert_exporter": "python",
   "pygments_lexer": "ipython3",
   "version": "3.10.14"
  }
 },
 "nbformat": 4,
 "nbformat_minor": 5
}
